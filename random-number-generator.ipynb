{
 "cells": [
  {
   "cell_type": "markdown",
   "metadata": {},
   "source": [
    "### MidSquare Method"
   ]
  },
  {
   "cell_type": "code",
   "execution_count": 1,
   "metadata": {},
   "outputs": [
    {
     "name": "stdout",
     "output_type": "stream",
     "text": [
      "[7182, 5811, 7677, 9363, 6657, 3156, 9603, 2176, 7349, 78, 60, 36, 12, 1]\n"
     ]
    }
   ],
   "source": [
    "seed = 7182\n",
    "random_numbers = []\n",
    "number = seed\n",
    "\n",
    "while number:\n",
    "    random_numbers.append(number)\n",
    "    square = number * number\n",
    "    mid = f\"{square:08d}\"\n",
    "    number = int(mid[2:-2])\n",
    "    if number == random_numbers[len(random_numbers) - 1]:\n",
    "        break\n",
    "\n",
    "print(random_numbers)"
   ]
  },
  {
   "cell_type": "markdown",
   "metadata": {},
   "source": [
    "### Linear Congruential Method"
   ]
  },
  {
   "cell_type": "code",
   "execution_count": 2,
   "metadata": {},
   "outputs": [
    {
     "name": "stdout",
     "output_type": "stream",
     "text": [
      "[1, 13, 41, 21, 17, 29, 57, 37, 33, 45, 9, 53, 49, 61, 25, 5]\n"
     ]
    }
   ],
   "source": [
    "seed, a, c, mod = 1, 13, 0, 64\n",
    "random_numbers = []\n",
    "\n",
    "while True:\n",
    "    random_numbers.append(seed)\n",
    "    seed = (a * seed + c) % mod\n",
    "    if seed == random_numbers[0]:\n",
    "        break\n",
    "\n",
    "print(random_numbers)"
   ]
  }
 ],
 "metadata": {
  "kernelspec": {
   "display_name": "Python 3",
   "language": "python",
   "name": "python3"
  },
  "language_info": {
   "codemirror_mode": {
    "name": "ipython",
    "version": 3
   },
   "file_extension": ".py",
   "mimetype": "text/x-python",
   "name": "python",
   "nbconvert_exporter": "python",
   "pygments_lexer": "ipython3",
   "version": "3.9.13"
  }
 },
 "nbformat": 4,
 "nbformat_minor": 2
}
