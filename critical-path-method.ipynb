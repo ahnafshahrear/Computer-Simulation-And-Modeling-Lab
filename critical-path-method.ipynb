{
 "cells": [
  {
   "cell_type": "markdown",
   "metadata": {},
   "source": [
    "### Importing the Libraries"
   ]
  },
  {
   "cell_type": "code",
   "execution_count": 26,
   "metadata": {},
   "outputs": [],
   "source": [
    "import numpy as np"
   ]
  },
  {
   "cell_type": "markdown",
   "metadata": {},
   "source": [
    "### Class for storing activity information"
   ]
  },
  {
   "cell_type": "code",
   "execution_count": 27,
   "metadata": {},
   "outputs": [],
   "source": [
    "class Activity:\n",
    "    def __init__(self, name, duration) -> None:\n",
    "        self.name = name\n",
    "        self.duration = duration\n",
    "        self.predecessors = []\n",
    "        self.successors = []\n",
    "        self.earliest_start = 0\n",
    "        self.earliest_finish = 0\n",
    "        self.latest_start = 0\n",
    "        self.latest_finish = 0\n",
    "        self.slack_time = 0"
   ]
  },
  {
   "cell_type": "markdown",
   "metadata": {},
   "source": [
    "### Taking input from the file"
   ]
  },
  {
   "cell_type": "code",
   "execution_count": 28,
   "metadata": {},
   "outputs": [],
   "source": [
    "file_name = \"precedence-relationship.txt\"\n",
    "\n",
    "activities = {}\n",
    "names = []\n",
    "\n",
    "for lines in open(file_name):\n",
    "    words = lines.rstrip('\\n').split(' ')\n",
    "    name = words[0]\n",
    "    duration = int(words[1])\n",
    "    predecessors = words[2]\n",
    "\n",
    "    names.append(name)\n",
    "    activities[name] = Activity(name, duration)\n",
    "\n",
    "    if (predecessors != \"\"):\n",
    "        predecessors = predecessors.split(',')\n",
    "        for predecessor in predecessors:\n",
    "            activities[name].predecessors.append(predecessor)\n",
    "            activities[predecessor].successors.append(name)"
   ]
  },
  {
   "cell_type": "markdown",
   "metadata": {},
   "source": [
    "### Forward Pass"
   ]
  },
  {
   "cell_type": "code",
   "execution_count": 29,
   "metadata": {},
   "outputs": [],
   "source": [
    "max_earliest_finish = 0\n",
    "\n",
    "for name in names:\n",
    "    if (len(activities[name].predecessors) == 0):\n",
    "        activities[name].earliest_finish = activities[name].duration\n",
    "    else:\n",
    "        max_earliest_start = 0\n",
    "        for predecessor in activities[name].predecessors:\n",
    "            max_earliest_start = max(max_earliest_start, activities[predecessor].earliest_finish)\n",
    "\n",
    "        activities[name].earliest_start = max_earliest_start\n",
    "        activities[name].earliest_finish = max_earliest_start + activities[name].duration\n",
    "\n",
    "    max_earliest_finish = max(max_earliest_finish, activities[name].earliest_finish)"
   ]
  },
  {
   "cell_type": "markdown",
   "metadata": {},
   "source": [
    "### Backward Pass"
   ]
  },
  {
   "cell_type": "code",
   "execution_count": 30,
   "metadata": {},
   "outputs": [],
   "source": [
    "for name in reversed(names):\n",
    "    if (len(activities[name].successors) == 0):\n",
    "        activities[name].latest_finish = max_earliest_finish\n",
    "        activities[name].latest_start = max_earliest_finish - activities[name].duration\n",
    "        activities[name].slack_time = activities[name].latest_start - activities[name].earliest_start\n",
    "    else:\n",
    "        min_latest_start = 10 ** 9\n",
    "        for successor in activities[name].successors:\n",
    "            min_latest_start = min(min_latest_start, activities[successor].latest_start)\n",
    "\n",
    "        activities[name].latest_finish = min_latest_start\n",
    "        activities[name].latest_start = min_latest_start - activities[name].duration\n",
    "        activities[name].slack_time = activities[name].latest_start - activities[name].earliest_start"
   ]
  },
  {
   "cell_type": "markdown",
   "metadata": {},
   "source": [
    "### Finding Critical Path"
   ]
  },
  {
   "cell_type": "code",
   "execution_count": 31,
   "metadata": {},
   "outputs": [
    {
     "name": "stdout",
     "output_type": "stream",
     "text": [
      "A B D G H "
     ]
    }
   ],
   "source": [
    "for name in names:\n",
    "    if (activities[name].slack_time == 0):\n",
    "        print(f\"{name} \", end = \"\")"
   ]
  }
 ],
 "metadata": {
  "kernelspec": {
   "display_name": "Python 3",
   "language": "python",
   "name": "python3"
  },
  "language_info": {
   "codemirror_mode": {
    "name": "ipython",
    "version": 3
   },
   "file_extension": ".py",
   "mimetype": "text/x-python",
   "name": "python",
   "nbconvert_exporter": "python",
   "pygments_lexer": "ipython3",
   "version": "3.9.13"
  }
 },
 "nbformat": 4,
 "nbformat_minor": 2
}
